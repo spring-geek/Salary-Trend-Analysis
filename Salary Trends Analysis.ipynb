{
 "cells": [
  {
   "cell_type": "code",
   "execution_count": 3,
   "id": "c13490ef-172f-41ea-a567-bfef5dd43ce5",
   "metadata": {},
   "outputs": [],
   "source": [
    "import pandas as pd                                                               #Importing pandas using the path link\n",
    "ds_salaries = pd.read_csv(r\"C:\\Users\\user\\Desktop\\ALTSCHOOL AFRICA\\EXAM PROJECT\\ds_salaries_dirty.csv\")"
   ]
  },
  {
   "cell_type": "code",
   "execution_count": 4,
   "id": "db1fb440-1245-4cfa-b076-ec730ab926f1",
   "metadata": {},
   "outputs": [
    {
     "data": {
      "text/plain": [
       "pandas.core.frame.DataFrame"
      ]
     },
     "execution_count": 4,
     "metadata": {},
     "output_type": "execute_result"
    }
   ],
   "source": [
    "type (ds_salaries)                  #Identifying the type of dataset"
   ]
  },
  {
   "cell_type": "markdown",
   "id": "3852dadc-8556-414a-b526-4095fcc2169e",
   "metadata": {},
   "source": [
    "# Task 1: Clean and Validate the Salary Data\n"
   ]
  },
  {
   "cell_type": "code",
   "execution_count": 6,
   "id": "2a7a54c2-fc73-4503-8944-962f70a91397",
   "metadata": {},
   "outputs": [],
   "source": [
    "clean_salaries = ds_salaries.copy()                  #Creating a copy to preserve original df"
   ]
  },
  {
   "cell_type": "code",
   "execution_count": 7,
   "id": "fb67e6c9-aace-4bd1-9c0d-69eae1ebde05",
   "metadata": {},
   "outputs": [
    {
     "data": {
      "text/html": [
       "<div>\n",
       "<style scoped>\n",
       "    .dataframe tbody tr th:only-of-type {\n",
       "        vertical-align: middle;\n",
       "    }\n",
       "\n",
       "    .dataframe tbody tr th {\n",
       "        vertical-align: top;\n",
       "    }\n",
       "\n",
       "    .dataframe thead th {\n",
       "        text-align: right;\n",
       "    }\n",
       "</style>\n",
       "<table border=\"1\" class=\"dataframe\">\n",
       "  <thead>\n",
       "    <tr style=\"text-align: right;\">\n",
       "      <th></th>\n",
       "      <th>work_year</th>\n",
       "      <th>experience_level</th>\n",
       "      <th>employment_type</th>\n",
       "      <th>job_title</th>\n",
       "      <th>salary_in_usd</th>\n",
       "      <th>remote_ratio</th>\n",
       "      <th>company_location</th>\n",
       "      <th>company_size</th>\n",
       "    </tr>\n",
       "  </thead>\n",
       "  <tbody>\n",
       "    <tr>\n",
       "      <th>0</th>\n",
       "      <td>2022</td>\n",
       "      <td>SE</td>\n",
       "      <td>CT</td>\n",
       "      <td>Data Scientist</td>\n",
       "      <td>42183.0</td>\n",
       "      <td>50</td>\n",
       "      <td>IN</td>\n",
       "      <td>L</td>\n",
       "    </tr>\n",
       "    <tr>\n",
       "      <th>1</th>\n",
       "      <td>2023</td>\n",
       "      <td>MI</td>\n",
       "      <td>FL</td>\n",
       "      <td>Data Scientist</td>\n",
       "      <td>190371.0</td>\n",
       "      <td>100</td>\n",
       "      <td>IN</td>\n",
       "      <td>S</td>\n",
       "    </tr>\n",
       "    <tr>\n",
       "      <th>2</th>\n",
       "      <td>2020</td>\n",
       "      <td>MI</td>\n",
       "      <td>CT</td>\n",
       "      <td>DS</td>\n",
       "      <td>173946.0</td>\n",
       "      <td>50</td>\n",
       "      <td>IN</td>\n",
       "      <td>L</td>\n",
       "    </tr>\n",
       "    <tr>\n",
       "      <th>3</th>\n",
       "      <td>2022</td>\n",
       "      <td>NaN</td>\n",
       "      <td>FT</td>\n",
       "      <td>ML Engineer</td>\n",
       "      <td>146336.0</td>\n",
       "      <td>50</td>\n",
       "      <td>DE</td>\n",
       "      <td>S</td>\n",
       "    </tr>\n",
       "    <tr>\n",
       "      <th>4</th>\n",
       "      <td>2022</td>\n",
       "      <td>MI</td>\n",
       "      <td>FL</td>\n",
       "      <td>ML Engineer</td>\n",
       "      <td>9999999.0</td>\n",
       "      <td>100</td>\n",
       "      <td>NG</td>\n",
       "      <td>L</td>\n",
       "    </tr>\n",
       "    <tr>\n",
       "      <th>...</th>\n",
       "      <td>...</td>\n",
       "      <td>...</td>\n",
       "      <td>...</td>\n",
       "      <td>...</td>\n",
       "      <td>...</td>\n",
       "      <td>...</td>\n",
       "      <td>...</td>\n",
       "      <td>...</td>\n",
       "    </tr>\n",
       "    <tr>\n",
       "      <th>95</th>\n",
       "      <td>2021</td>\n",
       "      <td>NaN</td>\n",
       "      <td>FL</td>\n",
       "      <td>AI Specialist</td>\n",
       "      <td>246386.0</td>\n",
       "      <td>50</td>\n",
       "      <td>GB</td>\n",
       "      <td>M</td>\n",
       "    </tr>\n",
       "    <tr>\n",
       "      <th>96</th>\n",
       "      <td>2021</td>\n",
       "      <td>MI</td>\n",
       "      <td>PT</td>\n",
       "      <td>AI Specialist</td>\n",
       "      <td>56641.0</td>\n",
       "      <td>0</td>\n",
       "      <td>US</td>\n",
       "      <td>M</td>\n",
       "    </tr>\n",
       "    <tr>\n",
       "      <th>97</th>\n",
       "      <td>2023</td>\n",
       "      <td>EX</td>\n",
       "      <td>CT</td>\n",
       "      <td>ML Engineer</td>\n",
       "      <td>195656.0</td>\n",
       "      <td>0</td>\n",
       "      <td>NaN</td>\n",
       "      <td>M</td>\n",
       "    </tr>\n",
       "    <tr>\n",
       "      <th>98</th>\n",
       "      <td>2021</td>\n",
       "      <td>EN</td>\n",
       "      <td>FT</td>\n",
       "      <td>AI Specialist</td>\n",
       "      <td>193817.0</td>\n",
       "      <td>0</td>\n",
       "      <td>NG</td>\n",
       "      <td>S</td>\n",
       "    </tr>\n",
       "    <tr>\n",
       "      <th>99</th>\n",
       "      <td>2020</td>\n",
       "      <td>SE</td>\n",
       "      <td>FL</td>\n",
       "      <td>Data Scientist</td>\n",
       "      <td>184165.0</td>\n",
       "      <td>0</td>\n",
       "      <td>US</td>\n",
       "      <td>L</td>\n",
       "    </tr>\n",
       "  </tbody>\n",
       "</table>\n",
       "<p>100 rows × 8 columns</p>\n",
       "</div>"
      ],
      "text/plain": [
       "    work_year experience_level employment_type       job_title  salary_in_usd  \\\n",
       "0        2022               SE              CT  Data Scientist        42183.0   \n",
       "1        2023               MI              FL  Data Scientist       190371.0   \n",
       "2        2020               MI              CT              DS       173946.0   \n",
       "3        2022              NaN              FT     ML Engineer       146336.0   \n",
       "4        2022               MI              FL     ML Engineer      9999999.0   \n",
       "..        ...              ...             ...             ...            ...   \n",
       "95       2021              NaN              FL   AI Specialist       246386.0   \n",
       "96       2021               MI              PT   AI Specialist        56641.0   \n",
       "97       2023               EX              CT     ML Engineer       195656.0   \n",
       "98       2021               EN              FT   AI Specialist       193817.0   \n",
       "99       2020               SE              FL  Data Scientist       184165.0   \n",
       "\n",
       "    remote_ratio company_location company_size  \n",
       "0             50               IN            L  \n",
       "1            100               IN            S  \n",
       "2             50               IN            L  \n",
       "3             50               DE            S  \n",
       "4            100               NG            L  \n",
       "..           ...              ...          ...  \n",
       "95            50               GB            M  \n",
       "96             0               US            M  \n",
       "97             0              NaN            M  \n",
       "98             0               NG            S  \n",
       "99             0               US            L  \n",
       "\n",
       "[100 rows x 8 columns]"
      ]
     },
     "execution_count": 7,
     "metadata": {},
     "output_type": "execute_result"
    }
   ],
   "source": [
    "clean_salaries                          #Loading the dataset"
   ]
  },
  {
   "cell_type": "code",
   "execution_count": 8,
   "id": "696f0c6c-313f-4abc-8735-1f2e8f95f041",
   "metadata": {},
   "outputs": [
    {
     "data": {
      "text/plain": [
       "(100, 8)"
      ]
     },
     "execution_count": 8,
     "metadata": {},
     "output_type": "execute_result"
    }
   ],
   "source": [
    "clean_salaries.shape    #Identifying the shape of the dataset"
   ]
  },
  {
   "cell_type": "code",
   "execution_count": 9,
   "id": "7f3f219e-0f56-427c-8f08-91669ade688d",
   "metadata": {},
   "outputs": [
    {
     "data": {
      "text/plain": [
       "<bound method DataFrame.info of     work_year experience_level employment_type       job_title  salary_in_usd  \\\n",
       "0        2022               SE              CT  Data Scientist        42183.0   \n",
       "1        2023               MI              FL  Data Scientist       190371.0   \n",
       "2        2020               MI              CT              DS       173946.0   \n",
       "3        2022              NaN              FT     ML Engineer       146336.0   \n",
       "4        2022               MI              FL     ML Engineer      9999999.0   \n",
       "..        ...              ...             ...             ...            ...   \n",
       "95       2021              NaN              FL   AI Specialist       246386.0   \n",
       "96       2021               MI              PT   AI Specialist        56641.0   \n",
       "97       2023               EX              CT     ML Engineer       195656.0   \n",
       "98       2021               EN              FT   AI Specialist       193817.0   \n",
       "99       2020               SE              FL  Data Scientist       184165.0   \n",
       "\n",
       "    remote_ratio company_location company_size  \n",
       "0             50               IN            L  \n",
       "1            100               IN            S  \n",
       "2             50               IN            L  \n",
       "3             50               DE            S  \n",
       "4            100               NG            L  \n",
       "..           ...              ...          ...  \n",
       "95            50               GB            M  \n",
       "96             0               US            M  \n",
       "97             0              NaN            M  \n",
       "98             0               NG            S  \n",
       "99             0               US            L  \n",
       "\n",
       "[100 rows x 8 columns]>"
      ]
     },
     "execution_count": 9,
     "metadata": {},
     "output_type": "execute_result"
    }
   ],
   "source": [
    "clean_salaries.info                                   #Identifying the information of the dataset"
   ]
  },
  {
   "cell_type": "code",
   "execution_count": 10,
   "id": "32f59dbd-e5f8-4594-9e4c-6e272bab8f20",
   "metadata": {},
   "outputs": [
    {
     "name": "stdout",
     "output_type": "stream",
     "text": [
      "<class 'pandas.core.frame.DataFrame'>\n",
      "RangeIndex: 100 entries, 0 to 99\n",
      "Data columns (total 8 columns):\n",
      " #   Column            Non-Null Count  Dtype  \n",
      "---  ------            --------------  -----  \n",
      " 0   work_year         100 non-null    int64  \n",
      " 1   experience_level  90 non-null     object \n",
      " 2   employment_type   92 non-null     object \n",
      " 3   job_title         100 non-null    object \n",
      " 4   salary_in_usd     96 non-null     float64\n",
      " 5   remote_ratio      100 non-null    int64  \n",
      " 6   company_location  94 non-null     object \n",
      " 7   company_size      100 non-null    object \n",
      "dtypes: float64(1), int64(2), object(5)\n",
      "memory usage: 6.4+ KB\n"
     ]
    }
   ],
   "source": [
    "clean_salaries.info()"
   ]
  },
  {
   "cell_type": "code",
   "execution_count": 11,
   "id": "4c155cbc-255c-42c5-9889-e0ebda1718ee",
   "metadata": {},
   "outputs": [
    {
     "data": {
      "text/html": [
       "<div>\n",
       "<style scoped>\n",
       "    .dataframe tbody tr th:only-of-type {\n",
       "        vertical-align: middle;\n",
       "    }\n",
       "\n",
       "    .dataframe tbody tr th {\n",
       "        vertical-align: top;\n",
       "    }\n",
       "\n",
       "    .dataframe thead th {\n",
       "        text-align: right;\n",
       "    }\n",
       "</style>\n",
       "<table border=\"1\" class=\"dataframe\">\n",
       "  <thead>\n",
       "    <tr style=\"text-align: right;\">\n",
       "      <th></th>\n",
       "      <th>work_year</th>\n",
       "      <th>experience_level</th>\n",
       "      <th>employment_type</th>\n",
       "      <th>job_title</th>\n",
       "      <th>salary_in_usd</th>\n",
       "      <th>remote_ratio</th>\n",
       "      <th>company_location</th>\n",
       "      <th>company_size</th>\n",
       "    </tr>\n",
       "  </thead>\n",
       "  <tbody>\n",
       "    <tr>\n",
       "      <th>0</th>\n",
       "      <td>2022</td>\n",
       "      <td>SE</td>\n",
       "      <td>CT</td>\n",
       "      <td>Data Scientist</td>\n",
       "      <td>42183.0</td>\n",
       "      <td>50</td>\n",
       "      <td>IN</td>\n",
       "      <td>L</td>\n",
       "    </tr>\n",
       "    <tr>\n",
       "      <th>1</th>\n",
       "      <td>2023</td>\n",
       "      <td>MI</td>\n",
       "      <td>FL</td>\n",
       "      <td>Data Scientist</td>\n",
       "      <td>190371.0</td>\n",
       "      <td>100</td>\n",
       "      <td>IN</td>\n",
       "      <td>S</td>\n",
       "    </tr>\n",
       "    <tr>\n",
       "      <th>2</th>\n",
       "      <td>2020</td>\n",
       "      <td>MI</td>\n",
       "      <td>CT</td>\n",
       "      <td>DS</td>\n",
       "      <td>173946.0</td>\n",
       "      <td>50</td>\n",
       "      <td>IN</td>\n",
       "      <td>L</td>\n",
       "    </tr>\n",
       "    <tr>\n",
       "      <th>3</th>\n",
       "      <td>2022</td>\n",
       "      <td>NaN</td>\n",
       "      <td>FT</td>\n",
       "      <td>ML Engineer</td>\n",
       "      <td>146336.0</td>\n",
       "      <td>50</td>\n",
       "      <td>DE</td>\n",
       "      <td>S</td>\n",
       "    </tr>\n",
       "    <tr>\n",
       "      <th>4</th>\n",
       "      <td>2022</td>\n",
       "      <td>MI</td>\n",
       "      <td>FL</td>\n",
       "      <td>ML Engineer</td>\n",
       "      <td>9999999.0</td>\n",
       "      <td>100</td>\n",
       "      <td>NG</td>\n",
       "      <td>L</td>\n",
       "    </tr>\n",
       "  </tbody>\n",
       "</table>\n",
       "</div>"
      ],
      "text/plain": [
       "   work_year experience_level employment_type       job_title  salary_in_usd  \\\n",
       "0       2022               SE              CT  Data Scientist        42183.0   \n",
       "1       2023               MI              FL  Data Scientist       190371.0   \n",
       "2       2020               MI              CT              DS       173946.0   \n",
       "3       2022              NaN              FT     ML Engineer       146336.0   \n",
       "4       2022               MI              FL     ML Engineer      9999999.0   \n",
       "\n",
       "   remote_ratio company_location company_size  \n",
       "0            50               IN            L  \n",
       "1           100               IN            S  \n",
       "2            50               IN            L  \n",
       "3            50               DE            S  \n",
       "4           100               NG            L  "
      ]
     },
     "execution_count": 11,
     "metadata": {},
     "output_type": "execute_result"
    }
   ],
   "source": [
    "clean_salaries.head()                 # checKing to see the first 5 rows"
   ]
  },
  {
   "cell_type": "code",
   "execution_count": 12,
   "id": "7901b376-296a-44b5-beeb-f50c190a95bc",
   "metadata": {},
   "outputs": [
    {
     "data": {
      "text/plain": [
       "0     2022\n",
       "1     2023\n",
       "2     2020\n",
       "3     2022\n",
       "4     2022\n",
       "      ... \n",
       "95    2021\n",
       "96    2021\n",
       "97    2023\n",
       "98    2021\n",
       "99    2020\n",
       "Name: work_year, Length: 100, dtype: int64"
      ]
     },
     "execution_count": 12,
     "metadata": {},
     "output_type": "execute_result"
    }
   ],
   "source": [
    "# Take a closer look at the work_year column\n",
    "clean_salaries['work_year'].head(100)"
   ]
  },
  {
   "cell_type": "code",
   "execution_count": 13,
   "id": "632cad3d-8659-4e10-80c6-325f6b28449b",
   "metadata": {},
   "outputs": [
    {
     "data": {
      "text/plain": [
       "array([2022, 2023, 2020, 2021], dtype=int64)"
      ]
     },
     "execution_count": 13,
     "metadata": {},
     "output_type": "execute_result"
    }
   ],
   "source": [
    "clean_salaries['work_year'].unique()                 #To check the unique numbers inside year"
   ]
  },
  {
   "cell_type": "code",
   "execution_count": 14,
   "id": "681f383f-c4e2-4a72-95cb-c21da8bd75f1",
   "metadata": {},
   "outputs": [
    {
     "data": {
      "text/plain": [
       "work_year           False\n",
       "experience_level    False\n",
       "employment_type     False\n",
       "job_title           False\n",
       "salary_in_usd       False\n",
       "remote_ratio        False\n",
       "company_location    False\n",
       "company_size        False\n",
       "dtype: bool"
      ]
     },
     "execution_count": 14,
     "metadata": {},
     "output_type": "execute_result"
    }
   ],
   "source": [
    "clean_salaries.isnull().all()                    #using isnull to check for empty rows"
   ]
  },
  {
   "cell_type": "code",
   "execution_count": 15,
   "id": "262ad056-8165-4b3d-8f7c-06c5f16d1568",
   "metadata": {},
   "outputs": [
    {
     "data": {
      "text/plain": [
       "work_year            0\n",
       "experience_level    10\n",
       "employment_type      8\n",
       "job_title            0\n",
       "salary_in_usd        4\n",
       "remote_ratio         0\n",
       "company_location     6\n",
       "company_size         0\n",
       "dtype: int64"
      ]
     },
     "execution_count": 15,
     "metadata": {},
     "output_type": "execute_result"
    }
   ],
   "source": [
    "clean_salaries.isnull().sum()                                  #checking for the sum of empty rows"
   ]
  },
  {
   "cell_type": "code",
   "execution_count": 16,
   "id": "0cc1cc3e-ab1c-4bf7-9cbe-21f97ba09197",
   "metadata": {},
   "outputs": [],
   "source": [
    "# Rule: work_year - Integer. Year the salary was reported. Must not be missing.\n",
    "clean_salaries.dropna(subset=['work_year'], inplace=True)\n",
    "clean_salaries['work_year'] = clean_salaries['work_year'].astype(int)"
   ]
  },
  {
   "cell_type": "code",
   "execution_count": 17,
   "id": "d55a04d4-2b06-40ba-bc38-4cd38e707833",
   "metadata": {},
   "outputs": [
    {
     "data": {
      "text/plain": [
       "0     2022\n",
       "1     2023\n",
       "2     2020\n",
       "3     2022\n",
       "4     2022\n",
       "      ... \n",
       "95    2021\n",
       "96    2021\n",
       "97    2023\n",
       "98    2021\n",
       "99    2020\n",
       "Name: work_year, Length: 100, dtype: int32"
      ]
     },
     "execution_count": 17,
     "metadata": {},
     "output_type": "execute_result"
    }
   ],
   "source": [
    "clean_salaries['work_year'].head(100)"
   ]
  },
  {
   "cell_type": "code",
   "execution_count": 18,
   "id": "478143a0-a611-40f0-99dc-6fe25def083d",
   "metadata": {},
   "outputs": [
    {
     "data": {
      "text/plain": [
       "0      SE\n",
       "1      MI\n",
       "2      MI\n",
       "3     NaN\n",
       "4      MI\n",
       "     ... \n",
       "95    NaN\n",
       "96     MI\n",
       "97     EX\n",
       "98     EN\n",
       "99     SE\n",
       "Name: experience_level, Length: 100, dtype: object"
      ]
     },
     "execution_count": 18,
     "metadata": {},
     "output_type": "execute_result"
    }
   ],
   "source": [
    "# Take a closer look at the experience_level column\n",
    "clean_salaries['experience_level'].head(100)"
   ]
  },
  {
   "cell_type": "code",
   "execution_count": 19,
   "id": "d42d9c96-eac8-4092-86f3-849b332e9809",
   "metadata": {},
   "outputs": [],
   "source": [
    "### Cleaning experience_level\n",
    "##Replacing missing or invalid values with 'EN' as it's the assumed entry-level default.\n",
    "# Rule: experience_level - Categorical. One of 'EN', 'MI', 'SE', 'EX'. Replace missing/invalid with 'EN'.\n",
    "valid_experience_levels = ['EN', 'MI', 'SE', 'EX']\n",
    "def clean_experience_level(level):\n",
    "    if level not in valid_experience_levels:\n",
    "        return 'EN'\n",
    "    return level\n",
    "clean_salaries['experience_level'] = clean_salaries['experience_level'].apply(clean_experience_level)"
   ]
  },
  {
   "cell_type": "code",
   "execution_count": 20,
   "id": "8fa1292a-f5cb-4aaf-af35-259610de8d0d",
   "metadata": {},
   "outputs": [
    {
     "data": {
      "text/plain": [
       "0     SE\n",
       "1     MI\n",
       "2     MI\n",
       "3     EN\n",
       "4     MI\n",
       "      ..\n",
       "95    EN\n",
       "96    MI\n",
       "97    EX\n",
       "98    EN\n",
       "99    SE\n",
       "Name: experience_level, Length: 100, dtype: object"
      ]
     },
     "execution_count": 20,
     "metadata": {},
     "output_type": "execute_result"
    }
   ],
   "source": [
    "clean_salaries['experience_level'].head(100)"
   ]
  },
  {
   "cell_type": "code",
   "execution_count": 21,
   "id": "38cf68be-2999-48a8-a196-0a49b89cdc3c",
   "metadata": {},
   "outputs": [
    {
     "data": {
      "text/plain": [
       "0     CT\n",
       "1     FL\n",
       "2     CT\n",
       "3     FT\n",
       "4     FL\n",
       "      ..\n",
       "95    FL\n",
       "96    PT\n",
       "97    CT\n",
       "98    FT\n",
       "99    FL\n",
       "Name: employment_type, Length: 100, dtype: object"
      ]
     },
     "execution_count": 21,
     "metadata": {},
     "output_type": "execute_result"
    }
   ],
   "source": [
    "# Take a closer look at the employment_type column\n",
    "clean_salaries['employment_type'].head(100)"
   ]
  },
  {
   "cell_type": "code",
   "execution_count": 22,
   "id": "b6bebd46-29b8-4973-81f8-95d2dd5786ac",
   "metadata": {},
   "outputs": [],
   "source": [
    "### Cleaning `employment_type`\n",
    "##Replacing missing or invalid values with 'FT' as it's the assumed entry-level default.\n",
    "# Rule: employment_type - Categorical. One of 'FT', 'PT', 'CT', 'FL'. Replace missing values with 'FT'.\n",
    "\n",
    "valid_employment_types = ['FT', 'PT', 'CT', 'FL']\n",
    "def clean_employment_type(emp_type):\n",
    "    if emp_type not in valid_employment_types:\n",
    "        return 'FT'\n",
    "    return emp_type\n",
    "clean_salaries['employment_type'] = clean_salaries['employment_type'].apply(clean_employment_type)\n",
    "\n",
    "# Corrected line to address FutureWarning\n",
    "clean_salaries['employment_type'] = clean_salaries['employment_type'].fillna('FT')"
   ]
  },
  {
   "cell_type": "code",
   "execution_count": 23,
   "id": "7eeed2d4-8df9-4c6e-8ee1-ffa160a208f5",
   "metadata": {},
   "outputs": [
    {
     "data": {
      "text/plain": [
       "0     CT\n",
       "1     FL\n",
       "2     CT\n",
       "3     FT\n",
       "4     FL\n",
       "      ..\n",
       "95    FL\n",
       "96    PT\n",
       "97    CT\n",
       "98    FT\n",
       "99    FL\n",
       "Name: employment_type, Length: 100, dtype: object"
      ]
     },
     "execution_count": 23,
     "metadata": {},
     "output_type": "execute_result"
    }
   ],
   "source": [
    "clean_salaries['employment_type'].head(100)"
   ]
  },
  {
   "cell_type": "code",
   "execution_count": 24,
   "id": "980c7ad1-3502-454e-b572-38674c412813",
   "metadata": {},
   "outputs": [
    {
     "data": {
      "text/plain": [
       "0     Data Scientist\n",
       "1     Data Scientist\n",
       "2                 DS\n",
       "3        ML Engineer\n",
       "4        ML Engineer\n",
       "           ...      \n",
       "95     AI Specialist\n",
       "96     AI Specialist\n",
       "97       ML Engineer\n",
       "98     AI Specialist\n",
       "99    Data Scientist\n",
       "Name: job_title, Length: 100, dtype: object"
      ]
     },
     "execution_count": 24,
     "metadata": {},
     "output_type": "execute_result"
    }
   ],
   "source": [
    "# Take a closer look at the job_title column\n",
    "clean_salaries['job_title'].head(100)"
   ]
  },
  {
   "cell_type": "code",
   "execution_count": 25,
   "id": "6fa5adf0-45c6-48da-a39b-21e902ba8b5f",
   "metadata": {},
   "outputs": [],
   "source": [
    "# Remove job titles with less than 3 characters \n",
    "def is_valid_title(title):\n",
    "    if isinstance(title, str) and len(title.strip()) >= 3:\n",
    "        return True\n",
    "    return False\n",
    "\n",
    "clean_salaries = clean_salaries[clean_salaries['job_title'].apply(is_valid_title)]"
   ]
  },
  {
   "cell_type": "code",
   "execution_count": 26,
   "id": "290a9d8d-d995-4f16-8f96-97598aed4a3e",
   "metadata": {},
   "outputs": [
    {
     "data": {
      "text/plain": [
       "0     Data Scientist\n",
       "1     Data Scientist\n",
       "3        ML Engineer\n",
       "4        ML Engineer\n",
       "5     Data Scientist\n",
       "           ...      \n",
       "95     AI Specialist\n",
       "96     AI Specialist\n",
       "97       ML Engineer\n",
       "98     AI Specialist\n",
       "99    Data Scientist\n",
       "Name: job_title, Length: 95, dtype: object"
      ]
     },
     "execution_count": 26,
     "metadata": {},
     "output_type": "execute_result"
    }
   ],
   "source": [
    "clean_salaries['job_title'].head(100)"
   ]
  },
  {
   "cell_type": "code",
   "execution_count": 86,
   "id": "851e2c8e-8917-4be3-8ab6-627308b31bbd",
   "metadata": {},
   "outputs": [
    {
     "data": {
      "text/plain": [
       "0      42183.0\n",
       "1     190371.0\n",
       "3     146336.0\n",
       "4     154019.0\n",
       "5      35539.0\n",
       "        ...   \n",
       "95    246386.0\n",
       "96     56641.0\n",
       "97    195656.0\n",
       "98    193817.0\n",
       "99    184165.0\n",
       "Name: salary_in_usd, Length: 95, dtype: float64"
      ]
     },
     "execution_count": 86,
     "metadata": {},
     "output_type": "execute_result"
    }
   ],
   "source": [
    "# Take a closer look at the salary_in_usd column\n",
    "clean_salaries['salary_in_usd'].head(100)"
   ]
  },
  {
   "cell_type": "code",
   "execution_count": 30,
   "id": "9bd01afe-8169-447f-afd3-90eb2c8c5f59",
   "metadata": {},
   "outputs": [],
   "source": [
    "\n",
    "### Cleaning salary_in_usd\n",
    "# Replacing the extreme values (less than $10,000 or greater than $1,000,000) with the median salary to prevent distortion in analysis. \n",
    "# Missing values were also filled this way.\n",
    "\n",
    "clean_salaries = clean_salaries.copy()\n",
    "median_salary = clean_salaries['salary_in_usd'].median()\n",
    "\n",
    "def clean_salary_in_usd(salary):\n",
    "    if salary < 10000 or salary > 1000000:\n",
    "        return median_salary\n",
    "    return salary\n",
    "clean_salaries['salary_in_usd'] = clean_salaries['salary_in_usd'].apply(clean_salary_in_usd)\n"
   ]
  },
  {
   "cell_type": "code",
   "execution_count": 31,
   "id": "792a8ca8-709f-4cd4-84a5-8a6d0efa03c2",
   "metadata": {},
   "outputs": [
    {
     "data": {
      "text/plain": [
       "0      42183.0\n",
       "1     190371.0\n",
       "3     146336.0\n",
       "4     154019.0\n",
       "5      35539.0\n",
       "        ...   \n",
       "95    246386.0\n",
       "96     56641.0\n",
       "97    195656.0\n",
       "98    193817.0\n",
       "99    184165.0\n",
       "Name: salary_in_usd, Length: 95, dtype: float64"
      ]
     },
     "execution_count": 31,
     "metadata": {},
     "output_type": "execute_result"
    }
   ],
   "source": [
    "clean_salaries['salary_in_usd'].head(100)"
   ]
  },
  {
   "cell_type": "code",
   "execution_count": 32,
   "id": "23af5d2a-4bfa-4567-8b56-afa4443c0833",
   "metadata": {},
   "outputs": [
    {
     "data": {
      "text/plain": [
       "0      IN\n",
       "1      IN\n",
       "3      DE\n",
       "4      NG\n",
       "5      GB\n",
       "     ... \n",
       "95     GB\n",
       "96     US\n",
       "97    NaN\n",
       "98     NG\n",
       "99     US\n",
       "Name: company_location, Length: 95, dtype: object"
      ]
     },
     "execution_count": 32,
     "metadata": {},
     "output_type": "execute_result"
    }
   ],
   "source": [
    "# Take a closer look at the company_location column\n",
    "clean_salaries['company_location'].head(100)"
   ]
  },
  {
   "cell_type": "code",
   "execution_count": 33,
   "id": "272b740f-5049-4b6e-b2de-f79baa6dfced",
   "metadata": {},
   "outputs": [],
   "source": [
    "# Cleaning the company_location \n",
    "clean_salaries['company_location'] = clean_salaries['company_location'].fillna('US')"
   ]
  },
  {
   "cell_type": "code",
   "execution_count": 34,
   "id": "1e00def4-20c7-48ad-a6a2-bce77f5d96b6",
   "metadata": {},
   "outputs": [
    {
     "data": {
      "text/plain": [
       "0     IN\n",
       "1     IN\n",
       "3     DE\n",
       "4     NG\n",
       "5     GB\n",
       "      ..\n",
       "95    GB\n",
       "96    US\n",
       "97    US\n",
       "98    NG\n",
       "99    US\n",
       "Name: company_location, Length: 95, dtype: object"
      ]
     },
     "execution_count": 34,
     "metadata": {},
     "output_type": "execute_result"
    }
   ],
   "source": [
    "clean_salaries['company_location'].head(100)              "
   ]
  },
  {
   "cell_type": "code",
   "execution_count": 35,
   "id": "9058f498-0cd2-405f-9047-53996d85d0ab",
   "metadata": {},
   "outputs": [
    {
     "data": {
      "text/plain": [
       "0     L\n",
       "1     S\n",
       "3     S\n",
       "4     L\n",
       "5     S\n",
       "     ..\n",
       "95    M\n",
       "96    M\n",
       "97    M\n",
       "98    S\n",
       "99    L\n",
       "Name: company_size, Length: 95, dtype: object"
      ]
     },
     "execution_count": 35,
     "metadata": {},
     "output_type": "execute_result"
    }
   ],
   "source": [
    "# Take a closer look at the company_size column\n",
    "clean_salaries['company_size'].head(100)"
   ]
  },
  {
   "cell_type": "code",
   "execution_count": 36,
   "id": "235153c8-10c3-415c-ad44-9ed51e508839",
   "metadata": {},
   "outputs": [],
   "source": [
    "# Cleaning the company_size\n",
    "clean_salaries['company_size'] = clean_salaries['company_size'].fillna('M')"
   ]
  },
  {
   "cell_type": "code",
   "execution_count": 37,
   "id": "c7f40e66-95cc-435f-b0ab-87daf80e3140",
   "metadata": {},
   "outputs": [
    {
     "data": {
      "text/plain": [
       "0     L\n",
       "1     S\n",
       "3     S\n",
       "4     L\n",
       "5     S\n",
       "     ..\n",
       "95    M\n",
       "96    M\n",
       "97    M\n",
       "98    S\n",
       "99    L\n",
       "Name: company_size, Length: 95, dtype: object"
      ]
     },
     "execution_count": 37,
     "metadata": {},
     "output_type": "execute_result"
    }
   ],
   "source": [
    "clean_salaries['company_size'].head(100)"
   ]
  },
  {
   "cell_type": "code",
   "execution_count": 38,
   "id": "2c53b5af-ac07-4ed2-af5b-cb829324ad2e",
   "metadata": {},
   "outputs": [
    {
     "name": "stdout",
     "output_type": "stream",
     "text": [
      "<class 'pandas.core.frame.DataFrame'>\n",
      "Index: 95 entries, 0 to 99\n",
      "Data columns (total 8 columns):\n",
      " #   Column            Non-Null Count  Dtype  \n",
      "---  ------            --------------  -----  \n",
      " 0   work_year         95 non-null     int32  \n",
      " 1   experience_level  95 non-null     object \n",
      " 2   employment_type   95 non-null     object \n",
      " 3   job_title         95 non-null     object \n",
      " 4   salary_in_usd     91 non-null     float64\n",
      " 5   remote_ratio      95 non-null     int64  \n",
      " 6   company_location  95 non-null     object \n",
      " 7   company_size      95 non-null     object \n",
      "dtypes: float64(1), int32(1), int64(1), object(5)\n",
      "memory usage: 6.3+ KB\n"
     ]
    }
   ],
   "source": [
    "clean_salaries.info()                  # Final result"
   ]
  },
  {
   "cell_type": "markdown",
   "id": "8be0dc56-f99d-4b6e-8708-911933c290d9",
   "metadata": {},
   "source": [
    "# Task 2: Salary Trends by Experience\n"
   ]
  },
  {
   "cell_type": "code",
   "execution_count": 40,
   "id": "ba870d8b-a9f5-478c-ad00-14203d9bdaf6",
   "metadata": {},
   "outputs": [],
   "source": [
    "# Group by experience level and employment type\n",
    "\n",
    "salary_trends = clean_salaries.groupby(['experience_level', 'employment_type'], observed=True)['salary_in_usd'].mean().reset_index()"
   ]
  },
  {
   "cell_type": "code",
   "execution_count": 41,
   "id": "5bad1e29-c4f1-4b78-8c16-cbbe3e5e9d87",
   "metadata": {},
   "outputs": [
    {
     "data": {
      "text/html": [
       "<div>\n",
       "<style scoped>\n",
       "    .dataframe tbody tr th:only-of-type {\n",
       "        vertical-align: middle;\n",
       "    }\n",
       "\n",
       "    .dataframe tbody tr th {\n",
       "        vertical-align: top;\n",
       "    }\n",
       "\n",
       "    .dataframe thead th {\n",
       "        text-align: right;\n",
       "    }\n",
       "</style>\n",
       "<table border=\"1\" class=\"dataframe\">\n",
       "  <thead>\n",
       "    <tr style=\"text-align: right;\">\n",
       "      <th></th>\n",
       "      <th>experience_level</th>\n",
       "      <th>employment_type</th>\n",
       "      <th>salary_in_usd</th>\n",
       "    </tr>\n",
       "  </thead>\n",
       "  <tbody>\n",
       "    <tr>\n",
       "      <th>0</th>\n",
       "      <td>EN</td>\n",
       "      <td>CT</td>\n",
       "      <td>77025.250000</td>\n",
       "    </tr>\n",
       "    <tr>\n",
       "      <th>1</th>\n",
       "      <td>EN</td>\n",
       "      <td>FL</td>\n",
       "      <td>160093.333333</td>\n",
       "    </tr>\n",
       "    <tr>\n",
       "      <th>2</th>\n",
       "      <td>EN</td>\n",
       "      <td>FT</td>\n",
       "      <td>132732.444444</td>\n",
       "    </tr>\n",
       "    <tr>\n",
       "      <th>3</th>\n",
       "      <td>EN</td>\n",
       "      <td>PT</td>\n",
       "      <td>166740.000000</td>\n",
       "    </tr>\n",
       "    <tr>\n",
       "      <th>4</th>\n",
       "      <td>EX</td>\n",
       "      <td>CT</td>\n",
       "      <td>166817.200000</td>\n",
       "    </tr>\n",
       "    <tr>\n",
       "      <th>5</th>\n",
       "      <td>EX</td>\n",
       "      <td>FL</td>\n",
       "      <td>163361.250000</td>\n",
       "    </tr>\n",
       "    <tr>\n",
       "      <th>6</th>\n",
       "      <td>EX</td>\n",
       "      <td>FT</td>\n",
       "      <td>175002.625000</td>\n",
       "    </tr>\n",
       "    <tr>\n",
       "      <th>7</th>\n",
       "      <td>EX</td>\n",
       "      <td>PT</td>\n",
       "      <td>68467.000000</td>\n",
       "    </tr>\n",
       "    <tr>\n",
       "      <th>8</th>\n",
       "      <td>MI</td>\n",
       "      <td>CT</td>\n",
       "      <td>170696.750000</td>\n",
       "    </tr>\n",
       "    <tr>\n",
       "      <th>9</th>\n",
       "      <td>MI</td>\n",
       "      <td>FL</td>\n",
       "      <td>128410.250000</td>\n",
       "    </tr>\n",
       "    <tr>\n",
       "      <th>10</th>\n",
       "      <td>MI</td>\n",
       "      <td>FT</td>\n",
       "      <td>116323.750000</td>\n",
       "    </tr>\n",
       "    <tr>\n",
       "      <th>11</th>\n",
       "      <td>MI</td>\n",
       "      <td>PT</td>\n",
       "      <td>131637.750000</td>\n",
       "    </tr>\n",
       "    <tr>\n",
       "      <th>12</th>\n",
       "      <td>SE</td>\n",
       "      <td>CT</td>\n",
       "      <td>127803.833333</td>\n",
       "    </tr>\n",
       "    <tr>\n",
       "      <th>13</th>\n",
       "      <td>SE</td>\n",
       "      <td>FL</td>\n",
       "      <td>129452.750000</td>\n",
       "    </tr>\n",
       "    <tr>\n",
       "      <th>14</th>\n",
       "      <td>SE</td>\n",
       "      <td>FT</td>\n",
       "      <td>139054.400000</td>\n",
       "    </tr>\n",
       "    <tr>\n",
       "      <th>15</th>\n",
       "      <td>SE</td>\n",
       "      <td>PT</td>\n",
       "      <td>170817.666667</td>\n",
       "    </tr>\n",
       "  </tbody>\n",
       "</table>\n",
       "</div>"
      ],
      "text/plain": [
       "   experience_level employment_type  salary_in_usd\n",
       "0                EN              CT   77025.250000\n",
       "1                EN              FL  160093.333333\n",
       "2                EN              FT  132732.444444\n",
       "3                EN              PT  166740.000000\n",
       "4                EX              CT  166817.200000\n",
       "5                EX              FL  163361.250000\n",
       "6                EX              FT  175002.625000\n",
       "7                EX              PT   68467.000000\n",
       "8                MI              CT  170696.750000\n",
       "9                MI              FL  128410.250000\n",
       "10               MI              FT  116323.750000\n",
       "11               MI              PT  131637.750000\n",
       "12               SE              CT  127803.833333\n",
       "13               SE              FL  129452.750000\n",
       "14               SE              FT  139054.400000\n",
       "15               SE              PT  170817.666667"
      ]
     },
     "execution_count": 41,
     "metadata": {},
     "output_type": "execute_result"
    }
   ],
   "source": [
    "salary_trends"
   ]
  },
  {
   "cell_type": "markdown",
   "id": "e9fe8699-2a87-461e-acac-3e9f20f83df4",
   "metadata": {},
   "source": [
    "Observations:\n",
    "\n",
    "1a. Executive (EX) Experience Level: Generally shows the highest average salaries across most employment types, especially for Full-Time (FT) roles. \n",
    "b. Contract (CT) and Freelance (FL) also show high averages. \n",
    "c. Part-Time (PT) roles for EX level appear to be an outlier with a lower average.\n",
    "\n",
    "2. Entry-Level (EN) Experience Level: Some entry-level roles (Freelance and Part-time) shows relatively high average salaries, sometimes even surpassing certain mid-level and senior-level categories. This could indicate specific in-demand skills even at an entry-level or niche roles.\n",
    "    \n",
    "3. Mid-Level (MI) and Senior-Level (SE) Experience Levels: These levels typically show an increase in average salaries compared to entry-level, particularly for Full-Time (FT) and Part-Time (PT) positions.\n",
    "    \n",
    "4. Employment Type Impact: Full-time (FT) roles generally have competitive average salaries across all experience levels. Freelance (FL) and Contract (CT) roles can also offer high compensation, especially for higher experience levels."
   ]
  },
  {
   "cell_type": "markdown",
   "id": "22bb2d9d-eecf-4426-80f0-8ac049d80c71",
   "metadata": {},
   "source": [
    "# Task 3: Remote Work Analysis\n"
   ]
  },
  {
   "cell_type": "code",
   "execution_count": 45,
   "id": "645a7bca-9d25-47b7-b3f0-f6dec541c814",
   "metadata": {},
   "outputs": [
    {
     "data": {
      "text/html": [
       "<div>\n",
       "<style scoped>\n",
       "    .dataframe tbody tr th:only-of-type {\n",
       "        vertical-align: middle;\n",
       "    }\n",
       "\n",
       "    .dataframe tbody tr th {\n",
       "        vertical-align: top;\n",
       "    }\n",
       "\n",
       "    .dataframe thead th {\n",
       "        text-align: right;\n",
       "    }\n",
       "</style>\n",
       "<table border=\"1\" class=\"dataframe\">\n",
       "  <thead>\n",
       "    <tr style=\"text-align: right;\">\n",
       "      <th></th>\n",
       "      <th>Work Mode</th>\n",
       "      <th>Average Salary (USD)</th>\n",
       "    </tr>\n",
       "  </thead>\n",
       "  <tbody>\n",
       "    <tr>\n",
       "      <th>0</th>\n",
       "      <td>Remote</td>\n",
       "      <td>144734.37</td>\n",
       "    </tr>\n",
       "    <tr>\n",
       "      <th>1</th>\n",
       "      <td>On-site</td>\n",
       "      <td>153214.04</td>\n",
       "    </tr>\n",
       "  </tbody>\n",
       "</table>\n",
       "</div>"
      ],
      "text/plain": [
       "  Work Mode  Average Salary (USD)\n",
       "0    Remote             144734.37\n",
       "1   On-site             153214.04"
      ]
     },
     "execution_count": 45,
     "metadata": {},
     "output_type": "execute_result"
    }
   ],
   "source": [
    "# Filter remote and on-site roles only\n",
    "remote_roles = clean_salaries[clean_salaries['remote_ratio'] == 100]\n",
    "onsite_roles = clean_salaries[clean_salaries['remote_ratio'] == 0]\n",
    "\n",
    "# Compute average salary for each\n",
    "remote_avg = remote_roles['salary_in_usd'].mean()\n",
    "onsite_avg = onsite_roles['salary_in_usd'].mean()\n",
    "\n",
    "# Create final comparison DataFrame\n",
    "remote_salary_comparison = pd.DataFrame({\n",
    "    'Work Mode': ['Remote', 'On-site'],\n",
    "    'Average Salary (USD)': [round(remote_avg, 2), round(onsite_avg, 2)]\n",
    "})\n",
    "\n",
    "remote_salary_comparison\n"
   ]
  },
  {
   "cell_type": "markdown",
   "id": "06a6662c-532a-458e-8ce6-f1383e379adf",
   "metadata": {},
   "source": [
    "Observations:\n",
    "\n",
    "Based on this analysis, on-site roles appear to have a slightly higher average salary ($153,214.04) compared to fully remote roles ($144,734.37).\n",
    "\n",
    "This difference, while not extremely large, suggests that, on average, companies might offer slightly higher compensation for roles that require physical presence in an office. This could be due to various factors, including:\n",
    "\n",
    "1. Location-based compensation: On-site roles might be situated in higher cost-of-living areas, which typically correlate with higher salaries.\n",
    "\n",
    "2. Role characteristics: Certain types of roles that naturally command higher salaries might also be more likely to be on-site due to specific collaboration needs, access to specialized equipment, or security requirements.\n",
    "\n",
    "3. Company policies and benefits: Some companies that prioritize on-site work might offer better overall compensation packages, or certain benefits that are tied to office presence.\n",
    "\n",
    "It's important to note that this is an average across all job titles and experience levels within the dataset. A more detailed breakdown (e.g., by specific job title or experience level for remote vs. on-site) could provide deeper insights into these trends.\n"
   ]
  },
  {
   "cell_type": "code",
   "execution_count": null,
   "id": "87123b97-031e-44dd-bcbf-1ca071fd8056",
   "metadata": {},
   "outputs": [],
   "source": []
  }
 ],
 "metadata": {
  "kernelspec": {
   "display_name": "Python [conda env:base] *",
   "language": "python",
   "name": "conda-base-py"
  },
  "language_info": {
   "codemirror_mode": {
    "name": "ipython",
    "version": 3
   },
   "file_extension": ".py",
   "mimetype": "text/x-python",
   "name": "python",
   "nbconvert_exporter": "python",
   "pygments_lexer": "ipython3",
   "version": "3.12.7"
  }
 },
 "nbformat": 4,
 "nbformat_minor": 5
}
